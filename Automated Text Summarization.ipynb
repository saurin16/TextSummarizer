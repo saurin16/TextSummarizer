{
 "cells": [
  {
   "cell_type": "code",
   "execution_count": 1,
   "id": "cc087810",
   "metadata": {},
   "outputs": [],
   "source": [
    "text = \"\"\"In a world often dominated by negativity, it's important to remember the power of kindness and compassion. Small acts of kindness have the ability to brighten someone's day, uplift spirits, and create a ripple effect of positivity that can spread far and wide. Whether it's a smile to a stranger, a helping hand to a friend in need, or a thoughtful gesture to a colleague, every act of kindness has the potential to make a difference in someone's life.Beyond individual actions, there is also immense power in collective efforts to create positive change. When communities come together to support one another, incredible things can happen. From grassroots initiatives to global movements, people are uniting to tackle pressing social and environmental issues, driving meaningful progress and inspiring hope for a better future.It's also important to recognize the strength that lies within each and every one of us. We all have the ability to make a positive impact, no matter how small our actions may seem. By tapping into our innate compassion and empathy, we can cultivate a culture of kindness and empathy that enriches our lives and those around us.So let's embrace the power of kindness, and strive to make the world a better place one small act at a time. Together, we can create a brighter, more compassionate future for all.\"\"\""
   ]
  },
  {
   "cell_type": "code",
   "execution_count": 2,
   "id": "294bd1c0",
   "metadata": {},
   "outputs": [
    {
     "data": {
      "text/plain": [
       "1335"
      ]
     },
     "execution_count": 2,
     "metadata": {},
     "output_type": "execute_result"
    }
   ],
   "source": [
    "len(text)"
   ]
  },
  {
   "cell_type": "code",
   "execution_count": null,
   "id": "c22d7351",
   "metadata": {},
   "outputs": [],
   "source": [
    "import spacy\n",
    "from spacy.lang.en import STOP_WORDS  # Corrected import\n",
    "from string import punctuation"
   ]
  },
  {
   "cell_type": "code",
   "execution_count": null,
   "id": "76ccd6d2",
   "metadata": {},
   "outputs": [],
   "source": [
    "nlp = spacy.load('en_core_web_sm')"
   ]
  },
  {
   "cell_type": "code",
   "execution_count": 6,
   "id": "6c61dea4",
   "metadata": {},
   "outputs": [],
   "source": [
    "doc = nlp(text)"
   ]
  },
  {
   "cell_type": "code",
   "execution_count": 7,
   "id": "043b45c1",
   "metadata": {},
   "outputs": [],
   "source": [
    "tokens = [token.text.lower() for token in doc \n",
    "          if not token.is_stop and \n",
    "          not token.is_punct and \n",
    "          token.text !='\\n']"
   ]
  },
  {
   "cell_type": "code",
   "execution_count": null,
   "id": "6a4a914f",
   "metadata": {},
   "outputs": [],
   "source": [
    "tokens"
   ]
  },
  {
   "cell_type": "code",
   "execution_count": null,
   "id": "51e27091",
   "metadata": {},
   "outputs": [],
   "source": [
    "tokens=[]\n",
    "stopwords = list(STOP_WORDS)\n",
    "allowed_pos = ['ADJ','PROPN','VERB','NOUN']\n",
    "for token in doc:\n",
    "    if token.text in stopwords or token.text in punctuation:\n",
    "        continue\n",
    "    if token.pos_ in allowed_pos:\n",
    "        tokens.append(token.text)\n",
    "   "
   ]
  },
  {
   "cell_type": "code",
   "execution_count": 23,
   "id": "6505766f",
   "metadata": {},
   "outputs": [
    {
     "data": {
      "text/plain": [
       "[]"
      ]
     },
     "execution_count": 23,
     "metadata": {},
     "output_type": "execute_result"
    }
   ],
   "source": [
    "tokens"
   ]
  },
  {
   "cell_type": "code",
   "execution_count": 24,
   "id": "ea5507a3",
   "metadata": {},
   "outputs": [],
   "source": [
    "from collections import Counter"
   ]
  },
  {
   "cell_type": "code",
   "execution_count": 26,
   "id": "48ea3d1d",
   "metadata": {},
   "outputs": [],
   "source": [
    "word_freq = Counter(tokens)"
   ]
  },
  {
   "cell_type": "code",
   "execution_count": 27,
   "id": "3e5bdce2",
   "metadata": {},
   "outputs": [
    {
     "data": {
      "text/plain": [
       "Counter()"
      ]
     },
     "execution_count": 27,
     "metadata": {},
     "output_type": "execute_result"
    }
   ],
   "source": [
    "word_freq"
   ]
  },
  {
   "cell_type": "code",
   "execution_count": 29,
   "id": "1bc3b699",
   "metadata": {},
   "outputs": [],
   "source": [
    "# Check if word_freq is not empty before calculating max frequency\n",
    "if word_freq:\n",
    "    max_freq = max(word_freq.values())\n",
    "else:\n",
    "    max_freq = 0  # or handle the case as needed"
   ]
  },
  {
   "cell_type": "code",
   "execution_count": 30,
   "id": "666931b9",
   "metadata": {},
   "outputs": [
    {
     "data": {
      "text/plain": [
       "0"
      ]
     },
     "execution_count": 30,
     "metadata": {},
     "output_type": "execute_result"
    }
   ],
   "source": [
    "max_freq"
   ]
  },
  {
   "cell_type": "code",
   "execution_count": 31,
   "id": "da198abe",
   "metadata": {},
   "outputs": [],
   "source": [
    "for word in word_freq.keys():\n",
    "    word_freq[word] = word_freq[word]/max_freq"
   ]
  },
  {
   "cell_type": "code",
   "execution_count": 32,
   "id": "b9984b3a",
   "metadata": {},
   "outputs": [
    {
     "data": {
      "text/plain": [
       "Counter()"
      ]
     },
     "execution_count": 32,
     "metadata": {},
     "output_type": "execute_result"
    }
   ],
   "source": [
    "word_freq"
   ]
  },
  {
   "cell_type": "code",
   "execution_count": 34,
   "id": "f01a6104",
   "metadata": {},
   "outputs": [],
   "source": [
    "# Ensure 'doc' is defined before this line\n",
    "doc = nlp(text)  # Add this line if it's missing\n",
    "sent_token = [sent.text for sent in doc.sents]"
   ]
  },
  {
   "cell_type": "code",
   "execution_count": 35,
   "id": "fb7b1fe7",
   "metadata": {},
   "outputs": [
    {
     "data": {
      "text/plain": [
       "[\"In a world often dominated by negativity, it's important to remember the power of kindness and compassion.\",\n",
       " \"Small acts of kindness have the ability to brighten someone's day, uplift spirits, and create a ripple effect of positivity that can spread far and wide.\",\n",
       " \"Whether it's a smile to a stranger, a helping hand to a friend in need, or a thoughtful gesture to a colleague, every act of kindness has the potential to make a difference in someone's life.\",\n",
       " 'Beyond individual actions, there is also immense power in collective efforts to create positive change.',\n",
       " 'When communities come together to support one another, incredible things can happen.',\n",
       " 'From grassroots initiatives to global movements, people are uniting to tackle pressing social and environmental issues, driving meaningful progress and inspiring hope for a better future.',\n",
       " \"It's also important to recognize the strength that lies within each and every one of us.\",\n",
       " 'We all have the ability to make a positive impact, no matter how small our actions may seem.',\n",
       " 'By tapping into our innate compassion and empathy, we can cultivate a culture of kindness and empathy that enriches our lives and those around us.',\n",
       " \"So let's embrace the power of kindness, and strive to make the world a better place one small act at a time.\",\n",
       " 'Together, we can create a brighter, more compassionate future for all.']"
      ]
     },
     "execution_count": 35,
     "metadata": {},
     "output_type": "execute_result"
    }
   ],
   "source": [
    "sent_token"
   ]
  },
  {
   "cell_type": "code",
   "execution_count": 36,
   "id": "96c0ef0a",
   "metadata": {},
   "outputs": [
    {
     "name": "stdout",
     "output_type": "stream",
     "text": [
      "In\n",
      "a\n",
      "world\n",
      "often\n",
      "dominated\n",
      "by\n",
      "negativity,\n",
      "it's\n",
      "important\n",
      "to\n",
      "remember\n",
      "the\n",
      "power\n",
      "of\n",
      "kindness\n",
      "and\n",
      "compassion.\n",
      "Small\n",
      "acts\n",
      "of\n",
      "kindness\n",
      "have\n",
      "the\n",
      "ability\n",
      "to\n",
      "brighten\n",
      "someone's\n",
      "day,\n",
      "uplift\n",
      "spirits,\n",
      "and\n",
      "create\n",
      "a\n",
      "ripple\n",
      "effect\n",
      "of\n",
      "positivity\n",
      "that\n",
      "can\n",
      "spread\n",
      "far\n",
      "and\n",
      "wide.\n",
      "Whether\n",
      "it's\n",
      "a\n",
      "smile\n",
      "to\n",
      "a\n",
      "stranger,\n",
      "a\n",
      "helping\n",
      "hand\n",
      "to\n",
      "a\n",
      "friend\n",
      "in\n",
      "need,\n",
      "or\n",
      "a\n",
      "thoughtful\n",
      "gesture\n",
      "to\n",
      "a\n",
      "colleague,\n",
      "every\n",
      "act\n",
      "of\n",
      "kindness\n",
      "has\n",
      "the\n",
      "potential\n",
      "to\n",
      "make\n",
      "a\n",
      "difference\n",
      "in\n",
      "someone's\n",
      "life.\n",
      "Beyond\n",
      "individual\n",
      "actions,\n",
      "there\n",
      "is\n",
      "also\n",
      "immense\n",
      "power\n",
      "in\n",
      "collective\n",
      "efforts\n",
      "to\n",
      "create\n",
      "positive\n",
      "change.\n",
      "When\n",
      "communities\n",
      "come\n",
      "together\n",
      "to\n",
      "support\n",
      "one\n",
      "another,\n",
      "incredible\n",
      "things\n",
      "can\n",
      "happen.\n",
      "From\n",
      "grassroots\n",
      "initiatives\n",
      "to\n",
      "global\n",
      "movements,\n",
      "people\n",
      "are\n",
      "uniting\n",
      "to\n",
      "tackle\n",
      "pressing\n",
      "social\n",
      "and\n",
      "environmental\n",
      "issues,\n",
      "driving\n",
      "meaningful\n",
      "progress\n",
      "and\n",
      "inspiring\n",
      "hope\n",
      "for\n",
      "a\n",
      "better\n",
      "future.\n",
      "It's\n",
      "also\n",
      "important\n",
      "to\n",
      "recognize\n",
      "the\n",
      "strength\n",
      "that\n",
      "lies\n",
      "within\n",
      "each\n",
      "and\n",
      "every\n",
      "one\n",
      "of\n",
      "us.\n",
      "We\n",
      "all\n",
      "have\n",
      "the\n",
      "ability\n",
      "to\n",
      "make\n",
      "a\n",
      "positive\n",
      "impact,\n",
      "no\n",
      "matter\n",
      "how\n",
      "small\n",
      "our\n",
      "actions\n",
      "may\n",
      "seem.\n",
      "By\n",
      "tapping\n",
      "into\n",
      "our\n",
      "innate\n",
      "compassion\n",
      "and\n",
      "empathy,\n",
      "we\n",
      "can\n",
      "cultivate\n",
      "a\n",
      "culture\n",
      "of\n",
      "kindness\n",
      "and\n",
      "empathy\n",
      "that\n",
      "enriches\n",
      "our\n",
      "lives\n",
      "and\n",
      "those\n",
      "around\n",
      "us.\n",
      "So\n",
      "let's\n",
      "embrace\n",
      "the\n",
      "power\n",
      "of\n",
      "kindness,\n",
      "and\n",
      "strive\n",
      "to\n",
      "make\n",
      "the\n",
      "world\n",
      "a\n",
      "better\n",
      "place\n",
      "one\n",
      "small\n",
      "act\n",
      "at\n",
      "a\n",
      "time.\n",
      "Together,\n",
      "we\n",
      "can\n",
      "create\n",
      "a\n",
      "brighter,\n",
      "more\n",
      "compassionate\n",
      "future\n",
      "for\n",
      "all.\n"
     ]
    }
   ],
   "source": [
    "sent_score = {}\n",
    "for sent in sent_token:\n",
    "    for word in sent.split():\n",
    "        if word.lower() in word_freq.keys():\n",
    "            if sent not in sent_score.keys():\n",
    "                sent_score[sent] = word_freq[word]\n",
    "            else:\n",
    "                sent_score[sent] +=word_freq[word]\n",
    "        print(word)"
   ]
  },
  {
   "cell_type": "code",
   "execution_count": 37,
   "id": "7d81aaad",
   "metadata": {},
   "outputs": [
    {
     "data": {
      "text/plain": [
       "{}"
      ]
     },
     "execution_count": 37,
     "metadata": {},
     "output_type": "execute_result"
    }
   ],
   "source": [
    "sent_score"
   ]
  },
  {
   "cell_type": "code",
   "execution_count": 38,
   "id": "25c87806",
   "metadata": {},
   "outputs": [],
   "source": [
    "import pandas as pd"
   ]
  },
  {
   "cell_type": "code",
   "execution_count": 39,
   "id": "cd9be5c6",
   "metadata": {},
   "outputs": [
    {
     "data": {
      "text/html": [
       "<div>\n",
       "<style scoped>\n",
       "    .dataframe tbody tr th:only-of-type {\n",
       "        vertical-align: middle;\n",
       "    }\n",
       "\n",
       "    .dataframe tbody tr th {\n",
       "        vertical-align: top;\n",
       "    }\n",
       "\n",
       "    .dataframe thead th {\n",
       "        text-align: right;\n",
       "    }\n",
       "</style>\n",
       "<table border=\"1\" class=\"dataframe\">\n",
       "  <thead>\n",
       "    <tr style=\"text-align: right;\">\n",
       "      <th></th>\n",
       "      <th>Sentence</th>\n",
       "      <th>Score</th>\n",
       "    </tr>\n",
       "  </thead>\n",
       "  <tbody>\n",
       "  </tbody>\n",
       "</table>\n",
       "</div>"
      ],
      "text/plain": [
       "Empty DataFrame\n",
       "Columns: [Sentence, Score]\n",
       "Index: []"
      ]
     },
     "execution_count": 39,
     "metadata": {},
     "output_type": "execute_result"
    }
   ],
   "source": [
    "pd.DataFrame(list(sent_score.items()),columns=['Sentence','Score'])"
   ]
  },
  {
   "cell_type": "code",
   "execution_count": 40,
   "id": "6a6b3c7d",
   "metadata": {},
   "outputs": [],
   "source": [
    "from heapq import nlargest"
   ]
  },
  {
   "cell_type": "code",
   "execution_count": 41,
   "id": "ab13760d",
   "metadata": {},
   "outputs": [],
   "source": [
    "num_sentences =3\n",
    "n = nlargest(num_sentences,sent_score,key=sent_score.get)"
   ]
  },
  {
   "cell_type": "code",
   "execution_count": 42,
   "id": "b612b5ca",
   "metadata": {},
   "outputs": [
    {
     "data": {
      "text/plain": [
       "''"
      ]
     },
     "execution_count": 42,
     "metadata": {},
     "output_type": "execute_result"
    }
   ],
   "source": [
    "\" \".join(n)"
   ]
  },
  {
   "cell_type": "code",
   "execution_count": 38,
   "id": "2d588264",
   "metadata": {},
   "outputs": [],
   "source": [
    "import tkinter as tk\n",
    "from tkinter import scrolledtext\n",
    "from tkinter import messagebox\n",
    "from tkinter import END\n",
    "\n",
    "# Importing the summarization code\n",
    "import spacy\n",
    "from spacy.lang.en.stop_words import STOP_WORDS\n",
    "from string import punctuation\n",
    "from collections import Counter\n",
    "from heapq import nlargest\n",
    "\n",
    "def summarize_text():\n",
    "    # Get text from the text box\n",
    "    text = text_box.get(\"1.0\", \"end-1c\")\n",
    "    \n",
    "    # Loading spaCy model\n",
    "    nlp = spacy.load('en_core_web_sm')\n",
    "    \n",
    "    # Tokenization and removing stopwords\n",
    "    doc = nlp(text)\n",
    "    tokens = [token.text.lower() for token in doc \n",
    "              if not token.is_stop and not token.is_punct and token.text != '\\n']\n",
    "\n",
    "    # Calculating word frequency\n",
    "    word_freq = Counter(tokens)\n",
    "    if not word_freq:\n",
    "        messagebox.showerror(\"Error\", \"No words found in the text.\")\n",
    "        return\n",
    "    \n",
    "    max_freq = max(word_freq.values())\n",
    "    for word in word_freq.keys():\n",
    "        word_freq[word] = word_freq[word]/max_freq\n",
    "    \n",
    "    # Sentence tokenization\n",
    "    sent_token = [sent.text for sent in doc.sents]\n",
    "\n",
    "    sent_score = {}\n",
    "    for sent in sent_token:\n",
    "        for word in sent.split():\n",
    "            if word.lower() in word_freq.keys():\n",
    "                if sent not in sent_score.keys():\n",
    "                    sent_score[sent] = word_freq[word]\n",
    "                else:\n",
    "                    sent_score[sent] += word_freq[word]\n",
    "\n",
    "    # Select top-scoring sentences based on user input\n",
    "    num_sentences = int(num_sentences_entry.get())\n",
    "    summarized_sentences = nlargest(num_sentences, sent_score, key=sent_score.get)\n",
    "\n",
    "    # Display summarized text in the result box\n",
    "    result_box.delete(1.0, END)\n",
    "    result_box.insert(END, \" \".join(summarized_sentences))\n",
    "\n",
    "# GUI setup\n",
    "root = tk.Tk()\n",
    "root.title(\"Text Summarizer\")\n",
    "\n",
    "# Text box for input\n",
    "text_box = scrolledtext.ScrolledText(root, width=50, height=10, wrap=tk.WORD)\n",
    "text_box.pack(pady=10)\n",
    "\n",
    "# Entry field for the number of sentences\n",
    "num_sentences_label = tk.Label(root, text=\"Number of Sentences:\")\n",
    "num_sentences_label.pack()\n",
    "num_sentences_entry = tk.Entry(root, width=10)\n",
    "num_sentences_entry.insert(END, \"3\")  # Default value\n",
    "num_sentences_entry.pack()\n",
    "\n",
    "# Button to summarize\n",
    "summarize_button = tk.Button(root, text=\"Summarize\", command=summarize_text)\n",
    "summarize_button.pack(pady=5)\n",
    "\n",
    "# Result box for output\n",
    "result_box = scrolledtext.ScrolledText(root, width=50, height=5, wrap=tk.WORD)\n",
    "result_box.pack(pady=10)\n",
    "\n",
    "root.mainloop()\n"
   ]
  },
  {
   "cell_type": "code",
   "execution_count": 39,
   "id": "fd184e1e",
   "metadata": {},
   "outputs": [
    {
     "name": "stdout",
     "output_type": "stream",
     "text": [
      "WARNING:tensorflow:From C:\\Users\\SFL-3\\AppData\\Roaming\\Python\\Python311\\site-packages\\keras\\src\\losses.py:2976: The name tf.losses.sparse_softmax_cross_entropy is deprecated. Please use tf.compat.v1.losses.sparse_softmax_cross_entropy instead.\n",
      "\n"
     ]
    },
    {
     "name": "stderr",
     "output_type": "stream",
     "text": [
      "C:\\ProgramData\\anaconda3\\Lib\\site-packages\\transformers\\utils\\generic.py:260: UserWarning: torch.utils._pytree._register_pytree_node is deprecated. Please use torch.utils._pytree.register_pytree_node instead.\n",
      "  torch.utils._pytree._register_pytree_node(\n"
     ]
    }
   ],
   "source": [
    "from transformers import pipeline"
   ]
  },
  {
   "cell_type": "code",
   "execution_count": 40,
   "id": "0cb35c13",
   "metadata": {},
   "outputs": [
    {
     "name": "stderr",
     "output_type": "stream",
     "text": [
      "C:\\ProgramData\\anaconda3\\Lib\\site-packages\\transformers\\models\\t5\\tokenization_t5_fast.py:155: FutureWarning: This tokenizer was incorrectly instantiated with a model max length of 512 which will be corrected in Transformers v5.\n",
      "For now, this behavior is kept to avoid breaking backwards compatibility when padding/encoding with `truncation is True`.\n",
      "- Be aware that you SHOULD NOT rely on t5-base automatically truncating your input to 512 when padding/encoding.\n",
      "- If you want to encode/pad to sequences longer than 512 you can either instantiate this tokenizer with `model_max_length` or pass `max_length` when encoding/padding.\n",
      "- To avoid this warning, please instantiate this tokenizer with `model_max_length` set to your preferred value.\n",
      "  warnings.warn(\n"
     ]
    }
   ],
   "source": [
    "summarizer=pipeline(\"summarization\",model='t5-base',tokenizer='t5-base',framework='pt')"
   ]
  },
  {
   "cell_type": "code",
   "execution_count": 41,
   "id": "a28a7c9b",
   "metadata": {},
   "outputs": [],
   "source": [
    "text = \"\"\"In a world often dominated by negativity, it's important to remember the power of kindness and compassion. Small acts of kindness have the ability to brighten someone's day, uplift spirits, and create a ripple effect of positivity that can spread far and wide. Whether it's a smile to a stranger, a helping hand to a friend in need, or a thoughtful gesture to a colleague, every act of kindness has the potential to make a difference in someone's life.Beyond individual actions, there is also immense power in collective efforts to create positive change. When communities come together to support one another, incredible things can happen. From grassroots initiatives to global movements, people are uniting to tackle pressing social and environmental issues, driving meaningful progress and inspiring hope for a better future.It's also important to recognize the strength that lies within each and every one of us. We all have the ability to make a positive impact, no matter how small our actions may seem. By tapping into our innate compassion and empathy, we can cultivate a culture of kindness and empathy that enriches our lives and those around us.So let's embrace the power of kindness, and strive to make the world a better place one small act at a time. Together, we can create a brighter, more compassionate future for all.\"\"\""
   ]
  },
  {
   "cell_type": "code",
   "execution_count": 42,
   "id": "d9cbb410",
   "metadata": {},
   "outputs": [],
   "source": [
    "summary = summarizer(text,max_length=100,min_length=10,do_sample=False)"
   ]
  },
  {
   "cell_type": "code",
   "execution_count": 43,
   "id": "121e7e26",
   "metadata": {},
   "outputs": [
    {
     "data": {
      "text/plain": [
       "[{'summary_text': \"small acts of kindness can brighten someone's day, uplift spirits, and create a ripple effect of positivity . when communities come together to support one another, incredible things can happen . we all have the ability to make a positive impact, no matter how small our actions may seem .\"}]"
      ]
     },
     "execution_count": 43,
     "metadata": {},
     "output_type": "execute_result"
    }
   ],
   "source": [
    "summary"
   ]
  },
  {
   "cell_type": "code",
   "execution_count": 44,
   "id": "0266e51f",
   "metadata": {},
   "outputs": [
    {
     "name": "stdout",
     "output_type": "stream",
     "text": [
      "small acts of kindness can brighten someone's day, uplift spirits, and create a ripple effect of positivity . when communities come together to support one another, incredible things can happen . we all have the ability to make a positive impact, no matter how small our actions may seem .\n"
     ]
    }
   ],
   "source": [
    "print(summary[0]['summary_text'])"
   ]
  },
  {
   "cell_type": "code",
   "execution_count": null,
   "id": "4c09ccdc",
   "metadata": {},
   "outputs": [],
   "source": [
    "import tkinter as tk\n",
    "from transformers import pipeline\n",
    "\n",
    "def summarize_text():\n",
    "    # Get text from the input text box\n",
    "    text = text_entry.get(\"1.0\", \"end-1c\")\n",
    "\n",
    "    # Summarize the text\n",
    "    summary = summarizer(text, max_length=100, min_length=10, do_sample=False)\n",
    "\n",
    "    # Update the output text box with the summary\n",
    "    output_text.delete(\"1.0\", \"end\")\n",
    "    output_text.insert(\"1.0\", summary[0]['summary_text'])\n",
    "\n",
    "# Create a Tkinter window\n",
    "window = tk.Tk()\n",
    "window.title(\"Text Summarizer\")\n",
    "\n",
    "# Create input text box\n",
    "text_entry = tk.Text(window, height=10, width=60)\n",
    "text_entry.pack(pady=10)\n",
    "\n",
    "# Create a button to trigger text summarization\n",
    "summarize_button = tk.Button(window, text=\"Summarize\", command=summarize_text)\n",
    "summarize_button.pack()\n",
    "\n",
    "# Create output text box\n",
    "output_text = tk.Text(window, height=10, width=60)\n",
    "output_text.pack(pady=10)\n",
    "\n",
    "# Initialize the summarizer pipeline\n",
    "summarizer = pipeline(\"summarization\", model=\"t5-base\", tokenizer=\"t5-base\", framework=\"pt\")\n",
    "\n",
    "# Run the Tkinter event loop\n",
    "window.mainloop()\n"
   ]
  },
  {
   "cell_type": "code",
   "execution_count": null,
   "id": "06acf375",
   "metadata": {},
   "outputs": [],
   "source": []
  }
 ],
 "metadata": {
  "kernelspec": {
   "display_name": "Python 3 (ipykernel)",
   "language": "python",
   "name": "python3"
  },
  "language_info": {
   "codemirror_mode": {
    "name": "ipython",
    "version": 3
   },
   "file_extension": ".py",
   "mimetype": "text/x-python",
   "name": "python",
   "nbconvert_exporter": "python",
   "pygments_lexer": "ipython3",
   "version": "3.10.11"
  }
 },
 "nbformat": 4,
 "nbformat_minor": 5
}
