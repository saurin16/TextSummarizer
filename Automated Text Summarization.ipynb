{
 "cells": [
  {
   "cell_type": "code",
   "execution_count": 2,
   "id": "cc087810",
   "metadata": {},
   "outputs": [],
   "source": [
    "text = \"\"\"In a world often dominated by negativity, it's important to remember the power of kindness and compassion. Small acts of kindness have the ability to brighten someone's day, uplift spirits, and create a ripple effect of positivity that can spread far and wide. Whether it's a smile to a stranger, a helping hand to a friend in need, or a thoughtful gesture to a colleague, every act of kindness has the potential to make a difference in someone's life.Beyond individual actions, there is also immense power in collective efforts to create positive change. When communities come together to support one another, incredible things can happen. From grassroots initiatives to global movements, people are uniting to tackle pressing social and environmental issues, driving meaningful progress and inspiring hope for a better future.It's also important to recognize the strength that lies within each and every one of us. We all have the ability to make a positive impact, no matter how small our actions may seem. By tapping into our innate compassion and empathy, we can cultivate a culture of kindness and empathy that enriches our lives and those around us.So let's embrace the power of kindness, and strive to make the world a better place one small act at a time. Together, we can create a brighter, more compassionate future for all.\"\"\""
   ]
  },
  {
   "cell_type": "code",
   "execution_count": 3,
   "id": "294bd1c0",
   "metadata": {},
   "outputs": [
    {
     "data": {
      "text/plain": [
       "1335"
      ]
     },
     "execution_count": 3,
     "metadata": {},
     "output_type": "execute_result"
    }
   ],
   "source": [
    "len(text)"
   ]
  },
  {
   "cell_type": "code",
   "execution_count": 8,
   "id": "c22d7351",
   "metadata": {},
   "outputs": [],
   "source": [
    "import spacy\n",
    "from spacy.lang.en.stop_words import STOP_WORDS\n",
    "from string import punctuation"
   ]
  },
  {
   "cell_type": "code",
   "execution_count": 10,
   "id": "76ccd6d2",
   "metadata": {},
   "outputs": [],
   "source": [
    "nlp = spacy.load('en_core_web_sm')"
   ]
  },
  {
   "cell_type": "code",
   "execution_count": 6,
   "id": "6c61dea4",
   "metadata": {},
   "outputs": [],
   "source": [
    "doc = nlp(text)"
   ]
  },
  {
   "cell_type": "code",
   "execution_count": 7,
   "id": "043b45c1",
   "metadata": {},
   "outputs": [],
   "source": [
    "tokens = [token.text.lower() for token in doc \n",
    "          if not token.is_stop and \n",
    "          not token.is_punct and \n",
    "          token.text !='\\n']"
   ]
  },
  {
   "cell_type": "code",
   "execution_count": 11,
   "id": "6a4a914f",
   "metadata": {},
   "outputs": [
    {
     "ename": "NameError",
     "evalue": "name 'tokens' is not defined",
     "output_type": "error",
     "traceback": [
      "\u001b[1;31m---------------------------------------------------------------------------\u001b[0m",
      "\u001b[1;31mNameError\u001b[0m                                 Traceback (most recent call last)",
      "Cell \u001b[1;32mIn[11], line 1\u001b[0m\n\u001b[1;32m----> 1\u001b[0m \u001b[43mtokens\u001b[49m\n",
      "\u001b[1;31mNameError\u001b[0m: name 'tokens' is not defined"
     ]
    }
   ],
   "source": [
    "tokens"
   ]
  },
  {
   "cell_type": "code",
   "execution_count": 21,
   "id": "51e27091",
   "metadata": {},
   "outputs": [
    {
     "ename": "NameError",
     "evalue": "name 'doc' is not defined",
     "output_type": "error",
     "traceback": [
      "\u001b[1;31m---------------------------------------------------------------------------\u001b[0m",
      "\u001b[1;31mNameError\u001b[0m                                 Traceback (most recent call last)",
      "Cell \u001b[1;32mIn[21], line 4\u001b[0m\n\u001b[0;32m      2\u001b[0m stopwords \u001b[38;5;241m=\u001b[39m \u001b[38;5;28mlist\u001b[39m(STOP_WORDS)\n\u001b[0;32m      3\u001b[0m allowed_pos \u001b[38;5;241m=\u001b[39m [\u001b[38;5;124m'\u001b[39m\u001b[38;5;124mADJ\u001b[39m\u001b[38;5;124m'\u001b[39m,\u001b[38;5;124m'\u001b[39m\u001b[38;5;124mPROPN\u001b[39m\u001b[38;5;124m'\u001b[39m,\u001b[38;5;124m'\u001b[39m\u001b[38;5;124mVERB\u001b[39m\u001b[38;5;124m'\u001b[39m,\u001b[38;5;124m'\u001b[39m\u001b[38;5;124mNOUN\u001b[39m\u001b[38;5;124m'\u001b[39m]\n\u001b[1;32m----> 4\u001b[0m \u001b[38;5;28;01mfor\u001b[39;00m token \u001b[38;5;129;01min\u001b[39;00m \u001b[43mdoc\u001b[49m:\n\u001b[0;32m      5\u001b[0m     \u001b[38;5;28;01mif\u001b[39;00m token\u001b[38;5;241m.\u001b[39mtext \u001b[38;5;129;01min\u001b[39;00m stopwords \u001b[38;5;129;01mor\u001b[39;00m token\u001b[38;5;241m.\u001b[39mtext \u001b[38;5;129;01min\u001b[39;00m punctuation:\n\u001b[0;32m      6\u001b[0m         \u001b[38;5;28;01mcontinue\u001b[39;00m\n",
      "\u001b[1;31mNameError\u001b[0m: name 'doc' is not defined"
     ]
    }
   ],
   "source": [
    "tokens=[]\n",
    "stopwords = list(STOP_WORDS)\n",
    "allowed_pos = ['ADJ','PROPN','VERB','NOUN']\n",
    "for token in doc:\n",
    "    if token.text in stopwords or token.text in punctuation:\n",
    "        continue\n",
    "    if token.pos_ in allowed_pos:\n",
    "        tokens.append(token.text)\n",
    "   "
   ]
  },
  {
   "cell_type": "code",
   "execution_count": 23,
   "id": "6505766f",
   "metadata": {},
   "outputs": [
    {
     "data": {
      "text/plain": [
       "[]"
      ]
     },
     "execution_count": 23,
     "metadata": {},
     "output_type": "execute_result"
    }
   ],
   "source": [
    "tokens"
   ]
  },
  {
   "cell_type": "code",
   "execution_count": 24,
   "id": "ea5507a3",
   "metadata": {},
   "outputs": [],
   "source": [
    "from collections import Counter"
   ]
  },
  {
   "cell_type": "code",
   "execution_count": 26,
   "id": "48ea3d1d",
   "metadata": {},
   "outputs": [],
   "source": [
    "word_freq = Counter(tokens)"
   ]
  },
  {
   "cell_type": "code",
   "execution_count": 27,
   "id": "3e5bdce2",
   "metadata": {},
   "outputs": [
    {
     "data": {
      "text/plain": [
       "Counter()"
      ]
     },
     "execution_count": 27,
     "metadata": {},
     "output_type": "execute_result"
    }
   ],
   "source": [
    "word_freq"
   ]
  },
  {
   "cell_type": "code",
   "execution_count": 29,
   "id": "1bc3b699",
   "metadata": {},
   "outputs": [],
   "source": [
    "# Check if word_freq is not empty before calculating max frequency\n",
    "if word_freq:\n",
    "    max_freq = max(word_freq.values())\n",
    "else:\n",
    "    max_freq = 0  # or handle the case as needed"
   ]
  },
  {
   "cell_type": "code",
   "execution_count": 30,
   "id": "666931b9",
   "metadata": {},
   "outputs": [
    {
     "data": {
      "text/plain": [
       "0"
      ]
     },
     "execution_count": 30,
     "metadata": {},
     "output_type": "execute_result"
    }
   ],
   "source": [
    "max_freq"
   ]
  },
  {
   "cell_type": "code",
   "execution_count": 31,
   "id": "da198abe",
   "metadata": {},
   "outputs": [],
   "source": [
    "for word in word_freq.keys():\n",
    "    word_freq[word] = word_freq[word]/max_freq"
   ]
  },
  {
   "cell_type": "code",
   "execution_count": 32,
   "id": "b9984b3a",
   "metadata": {},
   "outputs": [
    {
     "data": {
      "text/plain": [
       "Counter()"
      ]
     },
     "execution_count": 32,
     "metadata": {},
     "output_type": "execute_result"
    }
   ],
   "source": [
    "word_freq"
   ]
  },
  {
   "cell_type": "code",
   "execution_count": 34,
   "id": "f01a6104",
   "metadata": {},
   "outputs": [],
   "source": [
    "# Ensure 'doc' is defined before this line\n",
    "doc = nlp(text)  # Add this line if it's missing\n",
    "sent_token = [sent.text for sent in doc.sents]"
   ]
  },
  {
   "cell_type": "code",
   "execution_count": 35,
   "id": "fb7b1fe7",
   "metadata": {},
   "outputs": [
    {
     "data": {
      "text/plain": [
       "[\"In a world often dominated by negativity, it's important to remember the power of kindness and compassion.\",\n",
       " \"Small acts of kindness have the ability to brighten someone's day, uplift spirits, and create a ripple effect of positivity that can spread far and wide.\",\n",
       " \"Whether it's a smile to a stranger, a helping hand to a friend in need, or a thoughtful gesture to a colleague, every act of kindness has the potential to make a difference in someone's life.\",\n",
       " 'Beyond individual actions, there is also immense power in collective efforts to create positive change.',\n",
       " 'When communities come together to support one another, incredible things can happen.',\n",
       " 'From grassroots initiatives to global movements, people are uniting to tackle pressing social and environmental issues, driving meaningful progress and inspiring hope for a better future.',\n",
       " \"It's also important to recognize the strength that lies within each and every one of us.\",\n",
       " 'We all have the ability to make a positive impact, no matter how small our actions may seem.',\n",
       " 'By tapping into our innate compassion and empathy, we can cultivate a culture of kindness and empathy that enriches our lives and those around us.',\n",
       " \"So let's embrace the power of kindness, and strive to make the world a better place one small act at a time.\",\n",
       " 'Together, we can create a brighter, more compassionate future for all.']"
      ]
     },
     "execution_count": 35,
     "metadata": {},
     "output_type": "execute_result"
    }
   ],
   "source": [
    "sent_token"
   ]
  },
  {
   "cell_type": "code",
   "execution_count": 36,
   "id": "96c0ef0a",
   "metadata": {},
   "outputs": [
    {
     "name": "stdout",
     "output_type": "stream",
     "text": [
      "In\n",
      "a\n",
      "world\n",
      "often\n",
      "dominated\n",
      "by\n",
      "negativity,\n",
      "it's\n",
      "important\n",
      "to\n",
      "remember\n",
      "the\n",
      "power\n",
      "of\n",
      "kindness\n",
      "and\n",
      "compassion.\n",
      "Small\n",
      "acts\n",
      "of\n",
      "kindness\n",
      "have\n",
      "the\n",
      "ability\n",
      "to\n",
      "brighten\n",
      "someone's\n",
      "day,\n",
      "uplift\n",
      "spirits,\n",
      "and\n",
      "create\n",
      "a\n",
      "ripple\n",
      "effect\n",
      "of\n",
      "positivity\n",
      "that\n",
      "can\n",
      "spread\n",
      "far\n",
      "and\n",
      "wide.\n",
      "Whether\n",
      "it's\n",
      "a\n",
      "smile\n",
      "to\n",
      "a\n",
      "stranger,\n",
      "a\n",
      "helping\n",
      "hand\n",
      "to\n",
      "a\n",
      "friend\n",
      "in\n",
      "need,\n",
      "or\n",
      "a\n",
      "thoughtful\n",
      "gesture\n",
      "to\n",
      "a\n",
      "colleague,\n",
      "every\n",
      "act\n",
      "of\n",
      "kindness\n",
      "has\n",
      "the\n",
      "potential\n",
      "to\n",
      "make\n",
      "a\n",
      "difference\n",
      "in\n",
      "someone's\n",
      "life.\n",
      "Beyond\n",
      "individual\n",
      "actions,\n",
      "there\n",
      "is\n",
      "also\n",
      "immense\n",
      "power\n",
      "in\n",
      "collective\n",
      "efforts\n",
      "to\n",
      "create\n",
      "positive\n",
      "change.\n",
      "When\n",
      "communities\n",
      "come\n",
      "together\n",
      "to\n",
      "support\n",
      "one\n",
      "another,\n",
      "incredible\n",
      "things\n",
      "can\n",
      "happen.\n",
      "From\n",
      "grassroots\n",
      "initiatives\n",
      "to\n",
      "global\n",
      "movements,\n",
      "people\n",
      "are\n",
      "uniting\n",
      "to\n",
      "tackle\n",
      "pressing\n",
      "social\n",
      "and\n",
      "environmental\n",
      "issues,\n",
      "driving\n",
      "meaningful\n",
      "progress\n",
      "and\n",
      "inspiring\n",
      "hope\n",
      "for\n",
      "a\n",
      "better\n",
      "future.\n",
      "It's\n",
      "also\n",
      "important\n",
      "to\n",
      "recognize\n",
      "the\n",
      "strength\n",
      "that\n",
      "lies\n",
      "within\n",
      "each\n",
      "and\n",
      "every\n",
      "one\n",
      "of\n",
      "us.\n",
      "We\n",
      "all\n",
      "have\n",
      "the\n",
      "ability\n",
      "to\n",
      "make\n",
      "a\n",
      "positive\n",
      "impact,\n",
      "no\n",
      "matter\n",
      "how\n",
      "small\n",
      "our\n",
      "actions\n",
      "may\n",
      "seem.\n",
      "By\n",
      "tapping\n",
      "into\n",
      "our\n",
      "innate\n",
      "compassion\n",
      "and\n",
      "empathy,\n",
      "we\n",
      "can\n",
      "cultivate\n",
      "a\n",
      "culture\n",
      "of\n",
      "kindness\n",
      "and\n",
      "empathy\n",
      "that\n",
      "enriches\n",
      "our\n",
      "lives\n",
      "and\n",
      "those\n",
      "around\n",
      "us.\n",
      "So\n",
      "let's\n",
      "embrace\n",
      "the\n",
      "power\n",
      "of\n",
      "kindness,\n",
      "and\n",
      "strive\n",
      "to\n",
      "make\n",
      "the\n",
      "world\n",
      "a\n",
      "better\n",
      "place\n",
      "one\n",
      "small\n",
      "act\n",
      "at\n",
      "a\n",
      "time.\n",
      "Together,\n",
      "we\n",
      "can\n",
      "create\n",
      "a\n",
      "brighter,\n",
      "more\n",
      "compassionate\n",
      "future\n",
      "for\n",
      "all.\n"
     ]
    }
   ],
   "source": [
    "sent_score = {}\n",
    "for sent in sent_token:\n",
    "    for word in sent.split():\n",
    "        if word.lower() in word_freq.keys():\n",
    "            if sent not in sent_score.keys():\n",
    "                sent_score[sent] = word_freq[word]\n",
    "            else:\n",
    "                sent_score[sent] +=word_freq[word]\n",
    "        print(word)"
   ]
  },
  {
   "cell_type": "code",
   "execution_count": 37,
   "id": "7d81aaad",
   "metadata": {},
   "outputs": [
    {
     "data": {
      "text/plain": [
       "{}"
      ]
     },
     "execution_count": 37,
     "metadata": {},
     "output_type": "execute_result"
    }
   ],
   "source": [
    "sent_score"
   ]
  },
  {
   "cell_type": "code",
   "execution_count": 38,
   "id": "25c87806",
   "metadata": {},
   "outputs": [],
   "source": [
    "import pandas as pd"
   ]
  },
  {
   "cell_type": "code",
   "execution_count": 39,
   "id": "cd9be5c6",
   "metadata": {},
   "outputs": [
    {
     "data": {
      "text/html": [
       "<div>\n",
       "<style scoped>\n",
       "    .dataframe tbody tr th:only-of-type {\n",
       "        vertical-align: middle;\n",
       "    }\n",
       "\n",
       "    .dataframe tbody tr th {\n",
       "        vertical-align: top;\n",
       "    }\n",
       "\n",
       "    .dataframe thead th {\n",
       "        text-align: right;\n",
       "    }\n",
       "</style>\n",
       "<table border=\"1\" class=\"dataframe\">\n",
       "  <thead>\n",
       "    <tr style=\"text-align: right;\">\n",
       "      <th></th>\n",
       "      <th>Sentence</th>\n",
       "      <th>Score</th>\n",
       "    </tr>\n",
       "  </thead>\n",
       "  <tbody>\n",
       "  </tbody>\n",
       "</table>\n",
       "</div>"
      ],
      "text/plain": [
       "Empty DataFrame\n",
       "Columns: [Sentence, Score]\n",
       "Index: []"
      ]
     },
     "execution_count": 39,
     "metadata": {},
     "output_type": "execute_result"
    }
   ],
   "source": [
    "pd.DataFrame(list(sent_score.items()),columns=['Sentence','Score'])"
   ]
  },
  {
   "cell_type": "code",
   "execution_count": 40,
   "id": "6a6b3c7d",
   "metadata": {},
   "outputs": [],
   "source": [
    "from heapq import nlargest"
   ]
  },
  {
   "cell_type": "code",
   "execution_count": 41,
   "id": "ab13760d",
   "metadata": {},
   "outputs": [],
   "source": [
    "num_sentences =3\n",
    "n = nlargest(num_sentences,sent_score,key=sent_score.get)"
   ]
  },
  {
   "cell_type": "code",
   "execution_count": 42,
   "id": "b612b5ca",
   "metadata": {},
   "outputs": [
    {
     "data": {
      "text/plain": [
       "''"
      ]
     },
     "execution_count": 42,
     "metadata": {},
     "output_type": "execute_result"
    }
   ],
   "source": [
    "\" \".join(n)"
   ]
  },
  {
   "cell_type": "code",
   "execution_count": 38,
   "id": "2d588264",
   "metadata": {},
   "outputs": [],
   "source": [
    "import tkinter as tk\n",
    "from tkinter import scrolledtext\n",
    "from tkinter import messagebox\n",
    "from tkinter import END\n",
    "\n",
    "# Importing the summarization code\n",
    "import spacy\n",
    "from spacy.lang.en.stop_words import STOP_WORDS\n",
    "from string import punctuation\n",
    "from collections import Counter\n",
    "from heapq import nlargest\n",
    "\n",
    "def summarize_text():\n",
    "    # Get text from the text box\n",
    "    text = text_box.get(\"1.0\", \"end-1c\")\n",
    "    \n",
    "    # Loading spaCy model\n",
    "    nlp = spacy.load('en_core_web_sm')\n",
    "    \n",
    "    # Tokenization and removing stopwords\n",
    "    doc = nlp(text)\n",
    "    tokens = [token.text.lower() for token in doc \n",
    "              if not token.is_stop and not token.is_punct and token.text != '\\n']\n",
    "\n",
    "    # Calculating word frequency\n",
    "    word_freq = Counter(tokens)\n",
    "    if not word_freq:\n",
    "        messagebox.showerror(\"Error\", \"No words found in the text.\")\n",
    "        return\n",
    "    \n",
    "    max_freq = max(word_freq.values())\n",
    "    for word in word_freq.keys():\n",
    "        word_freq[word] = word_freq[word]/max_freq\n",
    "    \n",
    "    # Sentence tokenization\n",
    "    sent_token = [sent.text for sent in doc.sents]\n",
    "\n",
    "    sent_score = {}\n",
    "    for sent in sent_token:\n",
    "        for word in sent.split():\n",
    "            if word.lower() in word_freq.keys():\n",
    "                if sent not in sent_score.keys():\n",
    "                    sent_score[sent] = word_freq[word]\n",
    "                else:\n",
    "                    sent_score[sent] += word_freq[word]\n",
    "\n",
    "    # Select top-scoring sentences based on user input\n",
    "    num_sentences = int(num_sentences_entry.get())\n",
    "    summarized_sentences = nlargest(num_sentences, sent_score, key=sent_score.get)\n",
    "\n",
    "    # Display summarized text in the result box\n",
    "    result_box.delete(1.0, END)\n",
    "    result_box.insert(END, \" \".join(summarized_sentences))\n",
    "\n",
    "# GUI setup\n",
    "root = tk.Tk()\n",
    "root.title(\"Text Summarizer\")\n",
    "\n",
    "# Text box for input\n",
    "text_box = scrolledtext.ScrolledText(root, width=50, height=10, wrap=tk.WORD)\n",
    "text_box.pack(pady=10)\n",
    "\n",
    "# Entry field for the number of sentences\n",
    "num_sentences_label = tk.Label(root, text=\"Number of Sentences:\")\n",
    "num_sentences_label.pack()\n",
    "num_sentences_entry = tk.Entry(root, width=10)\n",
    "num_sentences_entry.insert(END, \"3\")  # Default value\n",
    "num_sentences_entry.pack()\n",
    "\n",
    "# Button to summarize\n",
    "summarize_button = tk.Button(root, text=\"Summarize\", command=summarize_text)\n",
    "summarize_button.pack(pady=5)\n",
    "\n",
    "# Result box for output\n",
    "result_box = scrolledtext.ScrolledText(root, width=50, height=5, wrap=tk.WORD)\n",
    "result_box.pack(pady=10)\n",
    "\n",
    "root.mainloop()\n"
   ]
  },
  {
   "cell_type": "code",
   "execution_count": 39,
   "id": "fd184e1e",
   "metadata": {},
   "outputs": [
    {
     "name": "stdout",
     "output_type": "stream",
     "text": [
      "WARNING:tensorflow:From C:\\Users\\SFL-3\\AppData\\Roaming\\Python\\Python311\\site-packages\\keras\\src\\losses.py:2976: The name tf.losses.sparse_softmax_cross_entropy is deprecated. Please use tf.compat.v1.losses.sparse_softmax_cross_entropy instead.\n",
      "\n"
     ]
    },
    {
     "name": "stderr",
     "output_type": "stream",
     "text": [
      "C:\\ProgramData\\anaconda3\\Lib\\site-packages\\transformers\\utils\\generic.py:260: UserWarning: torch.utils._pytree._register_pytree_node is deprecated. Please use torch.utils._pytree.register_pytree_node instead.\n",
      "  torch.utils._pytree._register_pytree_node(\n"
     ]
    }
   ],
   "source": [
    "from transformers import pipeline"
   ]
  },
  {
   "cell_type": "code",
   "execution_count": 40,
   "id": "0cb35c13",
   "metadata": {},
   "outputs": [
    {
     "name": "stderr",
     "output_type": "stream",
     "text": [
      "C:\\ProgramData\\anaconda3\\Lib\\site-packages\\transformers\\models\\t5\\tokenization_t5_fast.py:155: FutureWarning: This tokenizer was incorrectly instantiated with a model max length of 512 which will be corrected in Transformers v5.\n",
      "For now, this behavior is kept to avoid breaking backwards compatibility when padding/encoding with `truncation is True`.\n",
      "- Be aware that you SHOULD NOT rely on t5-base automatically truncating your input to 512 when padding/encoding.\n",
      "- If you want to encode/pad to sequences longer than 512 you can either instantiate this tokenizer with `model_max_length` or pass `max_length` when encoding/padding.\n",
      "- To avoid this warning, please instantiate this tokenizer with `model_max_length` set to your preferred value.\n",
      "  warnings.warn(\n"
     ]
    }
   ],
   "source": [
    "summarizer=pipeline(\"summarization\",model='t5-base',tokenizer='t5-base',framework='pt')"
   ]
  },
  {
   "cell_type": "code",
   "execution_count": 41,
   "id": "a28a7c9b",
   "metadata": {},
   "outputs": [],
   "source": [
    "text = \"\"\"In a world often dominated by negativity, it's important to remember the power of kindness and compassion. Small acts of kindness have the ability to brighten someone's day, uplift spirits, and create a ripple effect of positivity that can spread far and wide. Whether it's a smile to a stranger, a helping hand to a friend in need, or a thoughtful gesture to a colleague, every act of kindness has the potential to make a difference in someone's life.Beyond individual actions, there is also immense power in collective efforts to create positive change. When communities come together to support one another, incredible things can happen. From grassroots initiatives to global movements, people are uniting to tackle pressing social and environmental issues, driving meaningful progress and inspiring hope for a better future.It's also important to recognize the strength that lies within each and every one of us. We all have the ability to make a positive impact, no matter how small our actions may seem. By tapping into our innate compassion and empathy, we can cultivate a culture of kindness and empathy that enriches our lives and those around us.So let's embrace the power of kindness, and strive to make the world a better place one small act at a time. Together, we can create a brighter, more compassionate future for all.\"\"\""
   ]
  },
  {
   "cell_type": "code",
   "execution_count": 42,
   "id": "d9cbb410",
   "metadata": {},
   "outputs": [],
   "source": [
    "summary = summarizer(text,max_length=100,min_length=10,do_sample=False)"
   ]
  },
  {
   "cell_type": "code",
   "execution_count": 43,
   "id": "121e7e26",
   "metadata": {},
   "outputs": [
    {
     "data": {
      "text/plain": [
       "[{'summary_text': \"small acts of kindness can brighten someone's day, uplift spirits, and create a ripple effect of positivity . when communities come together to support one another, incredible things can happen . we all have the ability to make a positive impact, no matter how small our actions may seem .\"}]"
      ]
     },
     "execution_count": 43,
     "metadata": {},
     "output_type": "execute_result"
    }
   ],
   "source": [
    "summary"
   ]
  },
  {
   "cell_type": "code",
   "execution_count": 44,
   "id": "0266e51f",
   "metadata": {},
   "outputs": [
    {
     "name": "stdout",
     "output_type": "stream",
     "text": [
      "small acts of kindness can brighten someone's day, uplift spirits, and create a ripple effect of positivity . when communities come together to support one another, incredible things can happen . we all have the ability to make a positive impact, no matter how small our actions may seem .\n"
     ]
    }
   ],
   "source": [
    "print(summary[0]['summary_text'])"
   ]
  },
  {
   "cell_type": "code",
   "execution_count": 1,
   "id": "4c09ccdc",
   "metadata": {},
   "outputs": [
    {
     "ename": "KeyboardInterrupt",
     "evalue": "",
     "output_type": "error",
     "traceback": [
      "\u001b[1;31m---------------------------------------------------------------------------\u001b[0m",
      "\u001b[1;31mKeyboardInterrupt\u001b[0m                         Traceback (most recent call last)",
      "Cell \u001b[1;32mIn[1], line 2\u001b[0m\n\u001b[0;32m      1\u001b[0m \u001b[38;5;28;01mimport\u001b[39;00m \u001b[38;5;21;01mtkinter\u001b[39;00m \u001b[38;5;28;01mas\u001b[39;00m \u001b[38;5;21;01mtk\u001b[39;00m\n\u001b[1;32m----> 2\u001b[0m \u001b[38;5;28;01mfrom\u001b[39;00m \u001b[38;5;21;01mtransformers\u001b[39;00m \u001b[38;5;28;01mimport\u001b[39;00m pipeline\n\u001b[0;32m      4\u001b[0m \u001b[38;5;28;01mdef\u001b[39;00m \u001b[38;5;21msummarize_text\u001b[39m():\n\u001b[0;32m      5\u001b[0m     \u001b[38;5;66;03m# Get text from the input text box\u001b[39;00m\n\u001b[0;32m      6\u001b[0m     text \u001b[38;5;241m=\u001b[39m text_entry\u001b[38;5;241m.\u001b[39mget(\u001b[38;5;124m\"\u001b[39m\u001b[38;5;124m1.0\u001b[39m\u001b[38;5;124m\"\u001b[39m, \u001b[38;5;124m\"\u001b[39m\u001b[38;5;124mend-1c\u001b[39m\u001b[38;5;124m\"\u001b[39m)\n",
      "File \u001b[1;32m<frozen importlib._bootstrap>:1412\u001b[0m, in \u001b[0;36m_handle_fromlist\u001b[1;34m(module, fromlist, import_, recursive)\u001b[0m\n",
      "File \u001b[1;32mc:\\Users\\patel\\Desktop\\GENAI_NLP\\1-Basics+Of+Langchain\\.venv\\Lib\\site-packages\\transformers\\utils\\import_utils.py:1766\u001b[0m, in \u001b[0;36m_LazyModule.__getattr__\u001b[1;34m(self, name)\u001b[0m\n\u001b[0;32m   1764\u001b[0m     value \u001b[38;5;241m=\u001b[39m Placeholder\n\u001b[0;32m   1765\u001b[0m \u001b[38;5;28;01melif\u001b[39;00m name \u001b[38;5;129;01min\u001b[39;00m \u001b[38;5;28mself\u001b[39m\u001b[38;5;241m.\u001b[39m_class_to_module\u001b[38;5;241m.\u001b[39mkeys():\n\u001b[1;32m-> 1766\u001b[0m     module \u001b[38;5;241m=\u001b[39m \u001b[38;5;28;43mself\u001b[39;49m\u001b[38;5;241;43m.\u001b[39;49m\u001b[43m_get_module\u001b[49m\u001b[43m(\u001b[49m\u001b[38;5;28;43mself\u001b[39;49m\u001b[38;5;241;43m.\u001b[39;49m\u001b[43m_class_to_module\u001b[49m\u001b[43m[\u001b[49m\u001b[43mname\u001b[49m\u001b[43m]\u001b[49m\u001b[43m)\u001b[49m\n\u001b[0;32m   1767\u001b[0m     value \u001b[38;5;241m=\u001b[39m \u001b[38;5;28mgetattr\u001b[39m(module, name)\n\u001b[0;32m   1768\u001b[0m \u001b[38;5;28;01melif\u001b[39;00m name \u001b[38;5;129;01min\u001b[39;00m \u001b[38;5;28mself\u001b[39m\u001b[38;5;241m.\u001b[39m_modules:\n",
      "File \u001b[1;32mc:\\Users\\patel\\Desktop\\GENAI_NLP\\1-Basics+Of+Langchain\\.venv\\Lib\\site-packages\\transformers\\utils\\import_utils.py:1778\u001b[0m, in \u001b[0;36m_LazyModule._get_module\u001b[1;34m(self, module_name)\u001b[0m\n\u001b[0;32m   1776\u001b[0m \u001b[38;5;28;01mdef\u001b[39;00m \u001b[38;5;21m_get_module\u001b[39m(\u001b[38;5;28mself\u001b[39m, module_name: \u001b[38;5;28mstr\u001b[39m):\n\u001b[0;32m   1777\u001b[0m     \u001b[38;5;28;01mtry\u001b[39;00m:\n\u001b[1;32m-> 1778\u001b[0m         \u001b[38;5;28;01mreturn\u001b[39;00m \u001b[43mimportlib\u001b[49m\u001b[38;5;241;43m.\u001b[39;49m\u001b[43mimport_module\u001b[49m\u001b[43m(\u001b[49m\u001b[38;5;124;43m\"\u001b[39;49m\u001b[38;5;124;43m.\u001b[39;49m\u001b[38;5;124;43m\"\u001b[39;49m\u001b[43m \u001b[49m\u001b[38;5;241;43m+\u001b[39;49m\u001b[43m \u001b[49m\u001b[43mmodule_name\u001b[49m\u001b[43m,\u001b[49m\u001b[43m \u001b[49m\u001b[38;5;28;43mself\u001b[39;49m\u001b[38;5;241;43m.\u001b[39;49m\u001b[38;5;18;43m__name__\u001b[39;49m\u001b[43m)\u001b[49m\n\u001b[0;32m   1779\u001b[0m     \u001b[38;5;28;01mexcept\u001b[39;00m \u001b[38;5;167;01mException\u001b[39;00m \u001b[38;5;28;01mas\u001b[39;00m e:\n\u001b[0;32m   1780\u001b[0m         \u001b[38;5;28;01mraise\u001b[39;00m \u001b[38;5;167;01mRuntimeError\u001b[39;00m(\n\u001b[0;32m   1781\u001b[0m             \u001b[38;5;124mf\u001b[39m\u001b[38;5;124m\"\u001b[39m\u001b[38;5;124mFailed to import \u001b[39m\u001b[38;5;132;01m{\u001b[39;00m\u001b[38;5;28mself\u001b[39m\u001b[38;5;241m.\u001b[39m\u001b[38;5;18m__name__\u001b[39m\u001b[38;5;132;01m}\u001b[39;00m\u001b[38;5;124m.\u001b[39m\u001b[38;5;132;01m{\u001b[39;00mmodule_name\u001b[38;5;132;01m}\u001b[39;00m\u001b[38;5;124m because of the following error (look up to see its\u001b[39m\u001b[38;5;124m\"\u001b[39m\n\u001b[0;32m   1782\u001b[0m             \u001b[38;5;124mf\u001b[39m\u001b[38;5;124m\"\u001b[39m\u001b[38;5;124m traceback):\u001b[39m\u001b[38;5;130;01m\\n\u001b[39;00m\u001b[38;5;132;01m{\u001b[39;00me\u001b[38;5;132;01m}\u001b[39;00m\u001b[38;5;124m\"\u001b[39m\n\u001b[0;32m   1783\u001b[0m         ) \u001b[38;5;28;01mfrom\u001b[39;00m \u001b[38;5;21;01me\u001b[39;00m\n",
      "File \u001b[1;32m~\\AppData\\Local\\Programs\\Python\\Python312\\Lib\\importlib\\__init__.py:90\u001b[0m, in \u001b[0;36mimport_module\u001b[1;34m(name, package)\u001b[0m\n\u001b[0;32m     88\u001b[0m             \u001b[38;5;28;01mbreak\u001b[39;00m\n\u001b[0;32m     89\u001b[0m         level \u001b[38;5;241m+\u001b[39m\u001b[38;5;241m=\u001b[39m \u001b[38;5;241m1\u001b[39m\n\u001b[1;32m---> 90\u001b[0m \u001b[38;5;28;01mreturn\u001b[39;00m \u001b[43m_bootstrap\u001b[49m\u001b[38;5;241;43m.\u001b[39;49m\u001b[43m_gcd_import\u001b[49m\u001b[43m(\u001b[49m\u001b[43mname\u001b[49m\u001b[43m[\u001b[49m\u001b[43mlevel\u001b[49m\u001b[43m:\u001b[49m\u001b[43m]\u001b[49m\u001b[43m,\u001b[49m\u001b[43m \u001b[49m\u001b[43mpackage\u001b[49m\u001b[43m,\u001b[49m\u001b[43m \u001b[49m\u001b[43mlevel\u001b[49m\u001b[43m)\u001b[49m\n",
      "File \u001b[1;32mc:\\Users\\patel\\Desktop\\GENAI_NLP\\1-Basics+Of+Langchain\\.venv\\Lib\\site-packages\\transformers\\pipelines\\__init__.py:27\u001b[0m\n\u001b[0;32m     25\u001b[0m \u001b[38;5;28;01mfrom\u001b[39;00m \u001b[38;5;21;01m.\u001b[39;00m\u001b[38;5;21;01m.\u001b[39;00m\u001b[38;5;21;01mfeature_extraction_utils\u001b[39;00m \u001b[38;5;28;01mimport\u001b[39;00m PreTrainedFeatureExtractor\n\u001b[0;32m     26\u001b[0m \u001b[38;5;28;01mfrom\u001b[39;00m \u001b[38;5;21;01m.\u001b[39;00m\u001b[38;5;21;01m.\u001b[39;00m\u001b[38;5;21;01mimage_processing_utils\u001b[39;00m \u001b[38;5;28;01mimport\u001b[39;00m BaseImageProcessor\n\u001b[1;32m---> 27\u001b[0m \u001b[38;5;28;01mfrom\u001b[39;00m \u001b[38;5;21;01m.\u001b[39;00m\u001b[38;5;21;01m.\u001b[39;00m\u001b[38;5;21;01mmodels\u001b[39;00m\u001b[38;5;21;01m.\u001b[39;00m\u001b[38;5;21;01mauto\u001b[39;00m\u001b[38;5;21;01m.\u001b[39;00m\u001b[38;5;21;01mconfiguration_auto\u001b[39;00m \u001b[38;5;28;01mimport\u001b[39;00m AutoConfig\n\u001b[0;32m     28\u001b[0m \u001b[38;5;28;01mfrom\u001b[39;00m \u001b[38;5;21;01m.\u001b[39;00m\u001b[38;5;21;01m.\u001b[39;00m\u001b[38;5;21;01mmodels\u001b[39;00m\u001b[38;5;21;01m.\u001b[39;00m\u001b[38;5;21;01mauto\u001b[39;00m\u001b[38;5;21;01m.\u001b[39;00m\u001b[38;5;21;01mfeature_extraction_auto\u001b[39;00m \u001b[38;5;28;01mimport\u001b[39;00m FEATURE_EXTRACTOR_MAPPING, AutoFeatureExtractor\n\u001b[0;32m     29\u001b[0m \u001b[38;5;28;01mfrom\u001b[39;00m \u001b[38;5;21;01m.\u001b[39;00m\u001b[38;5;21;01m.\u001b[39;00m\u001b[38;5;21;01mmodels\u001b[39;00m\u001b[38;5;21;01m.\u001b[39;00m\u001b[38;5;21;01mauto\u001b[39;00m\u001b[38;5;21;01m.\u001b[39;00m\u001b[38;5;21;01mimage_processing_auto\u001b[39;00m \u001b[38;5;28;01mimport\u001b[39;00m IMAGE_PROCESSOR_MAPPING, AutoImageProcessor\n",
      "File \u001b[1;32mc:\\Users\\patel\\Desktop\\GENAI_NLP\\1-Basics+Of+Langchain\\.venv\\Lib\\site-packages\\transformers\\models\\__init__.py:15\u001b[0m\n\u001b[0;32m      1\u001b[0m \u001b[38;5;66;03m# Copyright 2020 The HuggingFace Team. All rights reserved.\u001b[39;00m\n\u001b[0;32m      2\u001b[0m \u001b[38;5;66;03m#\u001b[39;00m\n\u001b[0;32m      3\u001b[0m \u001b[38;5;66;03m# Licensed under the Apache License, Version 2.0 (the \"License\");\u001b[39;00m\n\u001b[1;32m   (...)\u001b[0m\n\u001b[0;32m     12\u001b[0m \u001b[38;5;66;03m# See the License for the specific language governing permissions and\u001b[39;00m\n\u001b[0;32m     13\u001b[0m \u001b[38;5;66;03m# limitations under the License.\u001b[39;00m\n\u001b[1;32m---> 15\u001b[0m \u001b[38;5;28;01mfrom\u001b[39;00m \u001b[38;5;21;01m.\u001b[39;00m \u001b[38;5;28;01mimport\u001b[39;00m (\n\u001b[0;32m     16\u001b[0m     albert,\n\u001b[0;32m     17\u001b[0m     align,\n\u001b[0;32m     18\u001b[0m     altclip,\n\u001b[0;32m     19\u001b[0m     audio_spectrogram_transformer,\n\u001b[0;32m     20\u001b[0m     auto,\n\u001b[0;32m     21\u001b[0m     autoformer,\n\u001b[0;32m     22\u001b[0m     bark,\n\u001b[0;32m     23\u001b[0m     bart,\n\u001b[0;32m     24\u001b[0m     barthez,\n\u001b[0;32m     25\u001b[0m     bartpho,\n\u001b[0;32m     26\u001b[0m     beit,\n\u001b[0;32m     27\u001b[0m     bert,\n\u001b[0;32m     28\u001b[0m     bert_generation,\n\u001b[0;32m     29\u001b[0m     bert_japanese,\n\u001b[0;32m     30\u001b[0m     bertweet,\n\u001b[0;32m     31\u001b[0m     big_bird,\n\u001b[0;32m     32\u001b[0m     bigbird_pegasus,\n\u001b[0;32m     33\u001b[0m     biogpt,\n\u001b[0;32m     34\u001b[0m     bit,\n\u001b[0;32m     35\u001b[0m     blenderbot,\n\u001b[0;32m     36\u001b[0m     blenderbot_small,\n\u001b[0;32m     37\u001b[0m     blip,\n\u001b[0;32m     38\u001b[0m     blip_2,\n\u001b[0;32m     39\u001b[0m     bloom,\n\u001b[0;32m     40\u001b[0m     bridgetower,\n\u001b[0;32m     41\u001b[0m     bros,\n\u001b[0;32m     42\u001b[0m     byt5,\n\u001b[0;32m     43\u001b[0m     camembert,\n\u001b[0;32m     44\u001b[0m     canine,\n\u001b[0;32m     45\u001b[0m     chameleon,\n\u001b[0;32m     46\u001b[0m     chinese_clip,\n\u001b[0;32m     47\u001b[0m     clap,\n\u001b[0;32m     48\u001b[0m     clip,\n\u001b[0;32m     49\u001b[0m     clipseg,\n\u001b[0;32m     50\u001b[0m     clvp,\n\u001b[0;32m     51\u001b[0m     code_llama,\n\u001b[0;32m     52\u001b[0m     codegen,\n\u001b[0;32m     53\u001b[0m     cohere,\n\u001b[0;32m     54\u001b[0m     conditional_detr,\n\u001b[0;32m     55\u001b[0m     convbert,\n\u001b[0;32m     56\u001b[0m     convnext,\n\u001b[0;32m     57\u001b[0m     convnextv2,\n\u001b[0;32m     58\u001b[0m     cpm,\n\u001b[0;32m     59\u001b[0m     cpmant,\n\u001b[0;32m     60\u001b[0m     ctrl,\n\u001b[0;32m     61\u001b[0m     cvt,\n\u001b[0;32m     62\u001b[0m     dac,\n\u001b[0;32m     63\u001b[0m     data2vec,\n\u001b[0;32m     64\u001b[0m     dbrx,\n\u001b[0;32m     65\u001b[0m     deberta,\n\u001b[0;32m     66\u001b[0m     deberta_v2,\n\u001b[0;32m     67\u001b[0m     decision_transformer,\n\u001b[0;32m     68\u001b[0m     deformable_detr,\n\u001b[0;32m     69\u001b[0m     deit,\n\u001b[0;32m     70\u001b[0m     deprecated,\n\u001b[0;32m     71\u001b[0m     depth_anything,\n\u001b[0;32m     72\u001b[0m     detr,\n\u001b[0;32m     73\u001b[0m     dialogpt,\n\u001b[0;32m     74\u001b[0m     dinat,\n\u001b[0;32m     75\u001b[0m     dinov2,\n\u001b[0;32m     76\u001b[0m     distilbert,\n\u001b[0;32m     77\u001b[0m     dit,\n\u001b[0;32m     78\u001b[0m     donut,\n\u001b[0;32m     79\u001b[0m     dpr,\n\u001b[0;32m     80\u001b[0m     dpt,\n\u001b[0;32m     81\u001b[0m     efficientnet,\n\u001b[0;32m     82\u001b[0m     electra,\n\u001b[0;32m     83\u001b[0m     encodec,\n\u001b[0;32m     84\u001b[0m     encoder_decoder,\n\u001b[0;32m     85\u001b[0m     ernie,\n\u001b[0;32m     86\u001b[0m     esm,\n\u001b[0;32m     87\u001b[0m     falcon,\n\u001b[0;32m     88\u001b[0m     falcon_mamba,\n\u001b[0;32m     89\u001b[0m     fastspeech2_conformer,\n\u001b[0;32m     90\u001b[0m     flaubert,\n\u001b[0;32m     91\u001b[0m     flava,\n\u001b[0;32m     92\u001b[0m     fnet,\n\u001b[0;32m     93\u001b[0m     focalnet,\n\u001b[0;32m     94\u001b[0m     fsmt,\n\u001b[0;32m     95\u001b[0m     funnel,\n\u001b[0;32m     96\u001b[0m     fuyu,\n\u001b[0;32m     97\u001b[0m     gemma,\n\u001b[0;32m     98\u001b[0m     gemma2,\n\u001b[0;32m     99\u001b[0m     git,\n\u001b[0;32m    100\u001b[0m     glm,\n\u001b[0;32m    101\u001b[0m     glpn,\n\u001b[0;32m    102\u001b[0m     gpt2,\n\u001b[0;32m    103\u001b[0m     gpt_bigcode,\n\u001b[0;32m    104\u001b[0m     gpt_neo,\n\u001b[0;32m    105\u001b[0m     gpt_neox,\n\u001b[0;32m    106\u001b[0m     gpt_neox_japanese,\n\u001b[0;32m    107\u001b[0m     gpt_sw3,\n\u001b[0;32m    108\u001b[0m     gptj,\n\u001b[0;32m    109\u001b[0m     granite,\n\u001b[0;32m    110\u001b[0m     granitemoe,\n\u001b[0;32m    111\u001b[0m     grounding_dino,\n\u001b[0;32m    112\u001b[0m     groupvit,\n\u001b[0;32m    113\u001b[0m     herbert,\n\u001b[0;32m    114\u001b[0m     hiera,\n\u001b[0;32m    115\u001b[0m     hubert,\n\u001b[0;32m    116\u001b[0m     ibert,\n\u001b[0;32m    117\u001b[0m     idefics,\n\u001b[0;32m    118\u001b[0m     idefics2,\n\u001b[0;32m    119\u001b[0m     idefics3,\n\u001b[0;32m    120\u001b[0m     imagegpt,\n\u001b[0;32m    121\u001b[0m     informer,\n\u001b[0;32m    122\u001b[0m     instructblip,\n\u001b[0;32m    123\u001b[0m     instructblipvideo,\n\u001b[0;32m    124\u001b[0m     jamba,\n\u001b[0;32m    125\u001b[0m     jetmoe,\n\u001b[0;32m    126\u001b[0m     kosmos2,\n\u001b[0;32m    127\u001b[0m     layoutlm,\n\u001b[0;32m    128\u001b[0m     layoutlmv2,\n\u001b[0;32m    129\u001b[0m     layoutlmv3,\n\u001b[0;32m    130\u001b[0m     layoutxlm,\n\u001b[0;32m    131\u001b[0m     led,\n\u001b[0;32m    132\u001b[0m     levit,\n\u001b[0;32m    133\u001b[0m     lilt,\n\u001b[0;32m    134\u001b[0m     llama,\n\u001b[0;32m    135\u001b[0m     llava,\n\u001b[0;32m    136\u001b[0m     llava_next,\n\u001b[0;32m    137\u001b[0m     llava_next_video,\n\u001b[0;32m    138\u001b[0m     llava_onevision,\n\u001b[0;32m    139\u001b[0m     longformer,\n\u001b[0;32m    140\u001b[0m     longt5,\n\u001b[0;32m    141\u001b[0m     luke,\n\u001b[0;32m    142\u001b[0m     lxmert,\n\u001b[0;32m    143\u001b[0m     m2m_100,\n\u001b[0;32m    144\u001b[0m     mamba,\n\u001b[0;32m    145\u001b[0m     mamba2,\n\u001b[0;32m    146\u001b[0m     marian,\n\u001b[0;32m    147\u001b[0m     markuplm,\n\u001b[0;32m    148\u001b[0m     mask2former,\n\u001b[0;32m    149\u001b[0m     maskformer,\n\u001b[0;32m    150\u001b[0m     mbart,\n\u001b[0;32m    151\u001b[0m     mbart50,\n\u001b[0;32m    152\u001b[0m     megatron_bert,\n\u001b[0;32m    153\u001b[0m     megatron_gpt2,\n\u001b[0;32m    154\u001b[0m     mgp_str,\n\u001b[0;32m    155\u001b[0m     mimi,\n\u001b[0;32m    156\u001b[0m     mistral,\n\u001b[0;32m    157\u001b[0m     mixtral,\n\u001b[0;32m    158\u001b[0m     mllama,\n\u001b[0;32m    159\u001b[0m     mluke,\n\u001b[0;32m    160\u001b[0m     mobilebert,\n\u001b[0;32m    161\u001b[0m     mobilenet_v1,\n\u001b[0;32m    162\u001b[0m     mobilenet_v2,\n\u001b[0;32m    163\u001b[0m     mobilevit,\n\u001b[0;32m    164\u001b[0m     mobilevitv2,\n\u001b[0;32m    165\u001b[0m     moshi,\n\u001b[0;32m    166\u001b[0m     mpnet,\n\u001b[0;32m    167\u001b[0m     mpt,\n\u001b[0;32m    168\u001b[0m     mra,\n\u001b[0;32m    169\u001b[0m     mt5,\n\u001b[0;32m    170\u001b[0m     musicgen,\n\u001b[0;32m    171\u001b[0m     musicgen_melody,\n\u001b[0;32m    172\u001b[0m     mvp,\n\u001b[0;32m    173\u001b[0m     myt5,\n\u001b[0;32m    174\u001b[0m     nemotron,\n\u001b[0;32m    175\u001b[0m     nllb,\n\u001b[0;32m    176\u001b[0m     nllb_moe,\n\u001b[0;32m    177\u001b[0m     nougat,\n\u001b[0;32m    178\u001b[0m     nystromformer,\n\u001b[0;32m    179\u001b[0m     olmo,\n\u001b[0;32m    180\u001b[0m     olmoe,\n\u001b[0;32m    181\u001b[0m     omdet_turbo,\n\u001b[0;32m    182\u001b[0m     oneformer,\n\u001b[0;32m    183\u001b[0m     openai,\n\u001b[0;32m    184\u001b[0m     opt,\n\u001b[0;32m    185\u001b[0m     owlv2,\n\u001b[0;32m    186\u001b[0m     owlvit,\n\u001b[0;32m    187\u001b[0m     paligemma,\n\u001b[0;32m    188\u001b[0m     patchtsmixer,\n\u001b[0;32m    189\u001b[0m     patchtst,\n\u001b[0;32m    190\u001b[0m     pegasus,\n\u001b[0;32m    191\u001b[0m     pegasus_x,\n\u001b[0;32m    192\u001b[0m     perceiver,\n\u001b[0;32m    193\u001b[0m     persimmon,\n\u001b[0;32m    194\u001b[0m     phi,\n\u001b[0;32m    195\u001b[0m     phi3,\n\u001b[0;32m    196\u001b[0m     phimoe,\n\u001b[0;32m    197\u001b[0m     phobert,\n\u001b[0;32m    198\u001b[0m     pix2struct,\n\u001b[0;32m    199\u001b[0m     pixtral,\n\u001b[0;32m    200\u001b[0m     plbart,\n\u001b[0;32m    201\u001b[0m     poolformer,\n\u001b[0;32m    202\u001b[0m     pop2piano,\n\u001b[0;32m    203\u001b[0m     prophetnet,\n\u001b[0;32m    204\u001b[0m     pvt,\n\u001b[0;32m    205\u001b[0m     pvt_v2,\n\u001b[0;32m    206\u001b[0m     qwen2,\n\u001b[0;32m    207\u001b[0m     qwen2_audio,\n\u001b[0;32m    208\u001b[0m     qwen2_moe,\n\u001b[0;32m    209\u001b[0m     qwen2_vl,\n\u001b[0;32m    210\u001b[0m     rag,\n\u001b[0;32m    211\u001b[0m     recurrent_gemma,\n\u001b[0;32m    212\u001b[0m     reformer,\n\u001b[0;32m    213\u001b[0m     regnet,\n\u001b[0;32m    214\u001b[0m     rembert,\n\u001b[0;32m    215\u001b[0m     resnet,\n\u001b[0;32m    216\u001b[0m     roberta,\n\u001b[0;32m    217\u001b[0m     roberta_prelayernorm,\n\u001b[0;32m    218\u001b[0m     roc_bert,\n\u001b[0;32m    219\u001b[0m     roformer,\n\u001b[0;32m    220\u001b[0m     rt_detr,\n\u001b[0;32m    221\u001b[0m     rwkv,\n\u001b[0;32m    222\u001b[0m     sam,\n\u001b[0;32m    223\u001b[0m     seamless_m4t,\n\u001b[0;32m    224\u001b[0m     seamless_m4t_v2,\n\u001b[0;32m    225\u001b[0m     segformer,\n\u001b[0;32m    226\u001b[0m     seggpt,\n\u001b[0;32m    227\u001b[0m     sew,\n\u001b[0;32m    228\u001b[0m     sew_d,\n\u001b[0;32m    229\u001b[0m     siglip,\n\u001b[0;32m    230\u001b[0m     speech_encoder_decoder,\n\u001b[0;32m    231\u001b[0m     speech_to_text,\n\u001b[0;32m    232\u001b[0m     speecht5,\n\u001b[0;32m    233\u001b[0m     splinter,\n\u001b[0;32m    234\u001b[0m     squeezebert,\n\u001b[0;32m    235\u001b[0m     stablelm,\n\u001b[0;32m    236\u001b[0m     starcoder2,\n\u001b[0;32m    237\u001b[0m     superpoint,\n\u001b[0;32m    238\u001b[0m     swiftformer,\n\u001b[0;32m    239\u001b[0m     swin,\n\u001b[0;32m    240\u001b[0m     swin2sr,\n\u001b[0;32m    241\u001b[0m     swinv2,\n\u001b[0;32m    242\u001b[0m     switch_transformers,\n\u001b[0;32m    243\u001b[0m     t5,\n\u001b[0;32m    244\u001b[0m     table_transformer,\n\u001b[0;32m    245\u001b[0m     tapas,\n\u001b[0;32m    246\u001b[0m     time_series_transformer,\n\u001b[0;32m    247\u001b[0m     timesformer,\n\u001b[0;32m    248\u001b[0m     timm_backbone,\n\u001b[0;32m    249\u001b[0m     trocr,\n\u001b[0;32m    250\u001b[0m     tvp,\n\u001b[0;32m    251\u001b[0m     udop,\n\u001b[0;32m    252\u001b[0m     umt5,\n\u001b[0;32m    253\u001b[0m     unispeech,\n\u001b[0;32m    254\u001b[0m     unispeech_sat,\n\u001b[0;32m    255\u001b[0m     univnet,\n\u001b[0;32m    256\u001b[0m     upernet,\n\u001b[0;32m    257\u001b[0m     video_llava,\n\u001b[0;32m    258\u001b[0m     videomae,\n\u001b[0;32m    259\u001b[0m     vilt,\n\u001b[0;32m    260\u001b[0m     vipllava,\n\u001b[0;32m    261\u001b[0m     vision_encoder_decoder,\n\u001b[0;32m    262\u001b[0m     vision_text_dual_encoder,\n\u001b[0;32m    263\u001b[0m     visual_bert,\n\u001b[0;32m    264\u001b[0m     vit,\n\u001b[0;32m    265\u001b[0m     vit_mae,\n\u001b[0;32m    266\u001b[0m     vit_msn,\n\u001b[0;32m    267\u001b[0m     vitdet,\n\u001b[0;32m    268\u001b[0m     vitmatte,\n\u001b[0;32m    269\u001b[0m     vits,\n\u001b[0;32m    270\u001b[0m     vivit,\n\u001b[0;32m    271\u001b[0m     wav2vec2,\n\u001b[0;32m    272\u001b[0m     wav2vec2_bert,\n\u001b[0;32m    273\u001b[0m     wav2vec2_conformer,\n\u001b[0;32m    274\u001b[0m     wav2vec2_phoneme,\n\u001b[0;32m    275\u001b[0m     wav2vec2_with_lm,\n\u001b[0;32m    276\u001b[0m     wavlm,\n\u001b[0;32m    277\u001b[0m     whisper,\n\u001b[0;32m    278\u001b[0m     x_clip,\n\u001b[0;32m    279\u001b[0m     xglm,\n\u001b[0;32m    280\u001b[0m     xlm,\n\u001b[0;32m    281\u001b[0m     xlm_roberta,\n\u001b[0;32m    282\u001b[0m     xlm_roberta_xl,\n\u001b[0;32m    283\u001b[0m     xlnet,\n\u001b[0;32m    284\u001b[0m     xmod,\n\u001b[0;32m    285\u001b[0m     yolos,\n\u001b[0;32m    286\u001b[0m     yoso,\n\u001b[0;32m    287\u001b[0m     zamba,\n\u001b[0;32m    288\u001b[0m     zoedepth,\n\u001b[0;32m    289\u001b[0m )\n",
      "File \u001b[1;32mc:\\Users\\patel\\Desktop\\GENAI_NLP\\1-Basics+Of+Langchain\\.venv\\Lib\\site-packages\\transformers\\models\\align\\__init__.py:28\u001b[0m\n\u001b[0;32m     25\u001b[0m \u001b[38;5;28;01mimport\u001b[39;00m \u001b[38;5;21;01msys\u001b[39;00m\n\u001b[0;32m     27\u001b[0m _file \u001b[38;5;241m=\u001b[39m \u001b[38;5;28mglobals\u001b[39m()[\u001b[38;5;124m\"\u001b[39m\u001b[38;5;124m__file__\u001b[39m\u001b[38;5;124m\"\u001b[39m]\n\u001b[1;32m---> 28\u001b[0m sys\u001b[38;5;241m.\u001b[39mmodules[\u001b[38;5;18m__name__\u001b[39m] \u001b[38;5;241m=\u001b[39m _LazyModule(\u001b[38;5;18m__name__\u001b[39m, _file, \u001b[43mdefine_import_structure\u001b[49m\u001b[43m(\u001b[49m\u001b[43m_file\u001b[49m\u001b[43m)\u001b[49m, module_spec\u001b[38;5;241m=\u001b[39m__spec__)\n",
      "File \u001b[1;32mc:\\Users\\patel\\Desktop\\GENAI_NLP\\1-Basics+Of+Langchain\\.venv\\Lib\\site-packages\\transformers\\utils\\import_utils.py:2197\u001b[0m, in \u001b[0;36mdefine_import_structure\u001b[1;34m(module_path)\u001b[0m\n\u001b[0;32m   2176\u001b[0m \u001b[38;5;28;01mdef\u001b[39;00m \u001b[38;5;21mdefine_import_structure\u001b[39m(module_path: \u001b[38;5;28mstr\u001b[39m) \u001b[38;5;241m-\u001b[39m\u001b[38;5;241m>\u001b[39m IMPORT_STRUCTURE_T:\n\u001b[0;32m   2177\u001b[0m \u001b[38;5;250m    \u001b[39m\u001b[38;5;124;03m\"\"\"\u001b[39;00m\n\u001b[0;32m   2178\u001b[0m \u001b[38;5;124;03m    This method takes a module_path as input and creates an import structure digestible by a _LazyModule.\u001b[39;00m\n\u001b[0;32m   2179\u001b[0m \n\u001b[1;32m   (...)\u001b[0m\n\u001b[0;32m   2195\u001b[0m \u001b[38;5;124;03m    The import structure is a dict defined with frozensets as keys, and dicts of strings to sets of objects.\u001b[39;00m\n\u001b[0;32m   2196\u001b[0m \u001b[38;5;124;03m    \"\"\"\u001b[39;00m\n\u001b[1;32m-> 2197\u001b[0m     import_structure \u001b[38;5;241m=\u001b[39m \u001b[43mcreate_import_structure_from_path\u001b[49m\u001b[43m(\u001b[49m\u001b[43mmodule_path\u001b[49m\u001b[43m)\u001b[49m\n\u001b[0;32m   2198\u001b[0m     \u001b[38;5;28;01mreturn\u001b[39;00m spread_import_structure(import_structure)\n",
      "File \u001b[1;32mc:\\Users\\patel\\Desktop\\GENAI_NLP\\1-Basics+Of+Langchain\\.venv\\Lib\\site-packages\\transformers\\utils\\import_utils.py:1967\u001b[0m, in \u001b[0;36mcreate_import_structure_from_path\u001b[1;34m(module_path)\u001b[0m\n\u001b[0;32m   1964\u001b[0m \u001b[38;5;28;01mif\u001b[39;00m \u001b[38;5;129;01mnot\u001b[39;00m module_name\u001b[38;5;241m.\u001b[39mendswith(\u001b[38;5;124m\"\u001b[39m\u001b[38;5;124m.py\u001b[39m\u001b[38;5;124m\"\u001b[39m):\n\u001b[0;32m   1965\u001b[0m     \u001b[38;5;28;01mcontinue\u001b[39;00m\n\u001b[1;32m-> 1967\u001b[0m \u001b[38;5;28;01mwith\u001b[39;00m \u001b[38;5;28;43mopen\u001b[39;49m\u001b[43m(\u001b[49m\u001b[43mos\u001b[49m\u001b[38;5;241;43m.\u001b[39;49m\u001b[43mpath\u001b[49m\u001b[38;5;241;43m.\u001b[39;49m\u001b[43mjoin\u001b[49m\u001b[43m(\u001b[49m\u001b[43mdirectory\u001b[49m\u001b[43m,\u001b[49m\u001b[43m \u001b[49m\u001b[43mmodule_name\u001b[49m\u001b[43m)\u001b[49m\u001b[43m,\u001b[49m\u001b[43m \u001b[49m\u001b[43mencoding\u001b[49m\u001b[38;5;241;43m=\u001b[39;49m\u001b[38;5;124;43m\"\u001b[39;49m\u001b[38;5;124;43mutf-8\u001b[39;49m\u001b[38;5;124;43m\"\u001b[39;49m\u001b[43m)\u001b[49m \u001b[38;5;28;01mas\u001b[39;00m f:\n\u001b[0;32m   1968\u001b[0m     file_content \u001b[38;5;241m=\u001b[39m f\u001b[38;5;241m.\u001b[39mread()\n\u001b[0;32m   1970\u001b[0m \u001b[38;5;66;03m# Remove the .py suffix\u001b[39;00m\n",
      "File \u001b[1;32m<frozen codecs>:309\u001b[0m, in \u001b[0;36m__init__\u001b[1;34m(self, errors)\u001b[0m\n",
      "\u001b[1;31mKeyboardInterrupt\u001b[0m: "
     ]
    }
   ],
   "source": [
    "import tkinter as tk\n",
    "from transformers import pipeline\n",
    "\n",
    "def summarize_text():\n",
    "    # Get text from the input text box\n",
    "    text = text_entry.get(\"1.0\", \"end-1c\")\n",
    "\n",
    "    # Summarize the text\n",
    "    summary = summarizer(text, max_length=100, min_length=10, do_sample=False)\n",
    "\n",
    "    # Update the output text box with the summary\n",
    "    output_text.delete(\"1.0\", \"end\")\n",
    "    output_text.insert(\"1.0\", summary[0]['summary_text'])\n",
    "\n",
    "# Create a Tkinter window\n",
    "window = tk.Tk()\n",
    "window.title(\"Text Summarizer\")\n",
    "\n",
    "# Create input text box\n",
    "text_entry = tk.Text(window, height=10, width=60)\n",
    "text_entry.pack(pady=10)\n",
    "\n",
    "# Create a button to trigger text summarization\n",
    "summarize_button = tk.Button(window, text=\"Summarize\", command=summarize_text)\n",
    "summarize_button.pack()\n",
    "\n",
    "# Create output text box\n",
    "output_text = tk.Text(window, height=10, width=60)\n",
    "output_text.pack(pady=10)\n",
    "\n",
    "# Initialize the summarizer pipeline\n",
    "summarizer = pipeline(\"summarization\", model=\"t5-base\", tokenizer=\"t5-base\", framework=\"pt\")\n",
    "\n",
    "# Run the Tkinter event loop\n",
    "window.mainloop()\n"
   ]
  },
  {
   "cell_type": "code",
   "execution_count": null,
   "id": "06acf375",
   "metadata": {},
   "outputs": [],
   "source": []
  }
 ],
 "metadata": {
  "kernelspec": {
   "display_name": "Python 3 (ipykernel)",
   "language": "python",
   "name": "python3"
  },
  "language_info": {
   "codemirror_mode": {
    "name": "ipython",
    "version": 3
   },
   "file_extension": ".py",
   "mimetype": "text/x-python",
   "name": "python",
   "nbconvert_exporter": "python",
   "pygments_lexer": "ipython3",
   "version": "3.12.5"
  }
 },
 "nbformat": 4,
 "nbformat_minor": 5
}
